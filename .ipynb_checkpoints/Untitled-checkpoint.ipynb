{
 "cells": [
  {
   "cell_type": "markdown",
   "metadata": {},
   "source": [
    "# HR Dataset Exploration\n",
    "\n",
    "IBM Watson has released a rather small (but very nice) [sample HR dataset](https://www.ibm.com/communities/analytics/watson-analytics-blog/hr-employee-attrition/) with around 1500 rows, which allows us to do some simple data exploration."
   ]
  },
  {
   "cell_type": "markdown",
   "metadata": {},
   "source": [
    "## Question 1: Can We Predict Performance Rating From Other Factors?\n",
    "\n",
    "Let's start by asking an interesting question: is it possible to reliably predict an employee's `PerformanceRating` given other fields in the dataset? The `PerformanceRating` is represented as an integer field. It seems IBM only intended to give us a subset of fictional data, as there only two unique performance ratings: 3, and 4.\n",
    "\n",
    "To do this, we'll create a *classifier* model that will, for a given row of input data, give us a prediction of what the performance rating will be. Since we only have a (seemingly non-random) subset of the data, the ability of this model to predict values outside of the subset (or to *generalize*) may be limited; but, it will still be interesting to see what results we get!\n",
    "\n",
    "To start with, we'll create a simple *random forest* classifier, which can be thought of as a group of decision trees that majority vote to determine the prediction. (Note: if we were doing this for a real project, we would probably just use an existing implementation. However, for purposes of getting a baseline prediction we'll write our own.)\n",
    "\n",
    "If you'd like to see the random forest code itself, you can view it [here](https://github.com/matt-may/hr-explore/blob/master/RandomForest.py)."
   ]
  },
  {
   "cell_type": "code",
   "execution_count": 17,
   "metadata": {
    "collapsed": false
   },
   "outputs": [
    {
     "name": "stdout",
     "output_type": "stream",
     "text": [
      "Initializing 10 trees.\n",
      "Accuracy: 86.3946%\n",
      "Accuracy: 84.3537%\n",
      "Accuracy: 85.7143%\n",
      "Accuracy: 89.7959%\n",
      "Accuracy: 82.9932%\n",
      "Accuracy: 85.0340%\n",
      "Accuracy: 85.7143%\n",
      "Accuracy: 91.8367%\n",
      "Accuracy: 81.6327%\n",
      "Accuracy: 88.4354%\n",
      "Final accuracy from 10-fold cross-validation: 86.1905%\n"
     ]
    }
   ],
   "source": [
    "import numpy as np\n",
    "import csv\n",
    "\n",
    "def main(model):\n",
    "    # `X` will be a two-dimensional list that will contain our data rows.\n",
    "    # `y` will be a one-dimensional list that will contain our data labels,\n",
    "    #  which in this case are performance ratings.\n",
    "    X, y = [], []\n",
    "\n",
    "    # Load our dataset.\n",
    "    with open('hr_dataset.csv') as f:\n",
    "        # We'll first extract the field names from our CSV. The field names \n",
    "        # are listed on the first line of the file.\n",
    "        first_line = f.readline()\n",
    "        fieldnames = first_line.split(',')\n",
    "\n",
    "        # Since not all of our data is numeric to start with, we'll initially\n",
    "        # keep it simple and consider only a subset of numeric fields. These \n",
    "        # will be the fields we use for prediction of the performance rating.\n",
    "        data_fields = [\n",
    "          'DistanceFromHome',\n",
    "          'Education',\n",
    "          'EnvironmentSatisfaction',\n",
    "          'HourlyRate',\n",
    "          'JobInvolvement',\n",
    "          'JobLevel',\n",
    "          'JobSatisfaction',\n",
    "          'NumCompaniesWorked',\n",
    "          'PercentSalaryHike',\n",
    "          'RelationshipSatisfaction',\n",
    "          'StockOptionLevel',\n",
    "          'TotalWorkingYears',\n",
    "          'TrainingTimesLastYear',\n",
    "          'WorkLifeBalance',\n",
    "          'YearsAtCompany',\n",
    "          'YearsInCurrentRole',\n",
    "          'YearsSinceLastPromotion'\n",
    "        ]\n",
    "\n",
    "        # For each line in our file, \n",
    "        for line in csv.DictReader(f, fieldnames=fieldnames):\n",
    "            # Append the data from the fields above to our data array.\n",
    "            X.append([line[k] for k in data_fields])\n",
    "            \n",
    "            # Append the Performance Rating from the row to our data labels \n",
    "            # list.\n",
    "            y.append(line['PerformanceRating'])\n",
    "\n",
    "    # Next, we will convert our lists of data into NumPy arrays for further work\n",
    "    # on them.\n",
    "    X = np.array(X, dtype=float)\n",
    "    y = np.array(y, dtype=int)\n",
    "\n",
    "    # Shuffle the data.\n",
    "    X, y = RandomForest.shuffle(X, y)\n",
    "\n",
    "    # Number of folds for cross-validation.\n",
    "    K = 10\n",
    "\n",
    "    # Initialize a left bound and right bound, that will advance for cross-\n",
    "    # validation.\n",
    "    lbound = 0\n",
    "    bound_size = X.shape[0] / K\n",
    "    rbound = lbound + bound_size\n",
    "\n",
    "    # Create a container for the accuracies across cross-validation.\n",
    "    accuracies = []\n",
    "\n",
    "    # Perform K-fold cross validation.\n",
    "    for i in xrange(K):\n",
    "        # Prepare a training set.\n",
    "        X_train = np.concatenate((X[:lbound,:], X[rbound:,:]))\n",
    "        y_train = np.concatenate((y[:lbound], y[rbound:]))\n",
    "\n",
    "        # Prepare a test set.\n",
    "        X_test = X[lbound:rbound,:]\n",
    "        y_test = y[lbound:rbound]\n",
    "\n",
    "        # Fit the classifier.\n",
    "        model.fit(X_train, y_train)\n",
    "\n",
    "        # Predict results of the test set.\n",
    "        y_predicted = model.predict(X_test)\n",
    "\n",
    "        # Determine our successes, and failures.\n",
    "        results = [prediction == truth for prediction, truth in zip(y_predicted, y_test)]\n",
    "\n",
    "        # Compute accuracy.\n",
    "        accuracy = float(results.count(True)) / float(len(results))\n",
    "        accuracies.append(accuracy)\n",
    "\n",
    "        print \"Accuracy: %.4f%%\" % (accuracy * 100)\n",
    "\n",
    "        # Increment the boundaries.\n",
    "        lbound += bound_size\n",
    "        rbound += bound_size\n",
    "\n",
    "    print(\"Final accuracy from %d-fold cross-validation: %.4f%%\" % (K, np.average(accuracies) * 100))\n",
    "    \n",
    "from RandomForest import RandomForest\n",
    "\n",
    "# Initialize our model.\n",
    "model = RandomForest(10)\n",
    "\n",
    "# Get our predictions!\n",
    "main(model)"
   ]
  },
  {
   "cell_type": "markdown",
   "metadata": {
    "collapsed": true
   },
   "source": [
    "### Results\n",
    "\n",
    "Okay, not too bad to start! We're able to predict the performance rating of an employee with ~86% accuracy given a row of data. Our baseline is being able to do it with 50% accuracy, as we only have two possible performance ratings in this dataset. But we can do a lot better!\n",
    "\n",
    "Let's now try using a battle-tested support vector machine-based model from an open-source software library called scikit-learn. "
   ]
  },
  {
   "cell_type": "code",
   "execution_count": 18,
   "metadata": {
    "collapsed": false
   },
   "outputs": [
    {
     "name": "stdout",
     "output_type": "stream",
     "text": [
      "Accuracy: 100.0000%\n",
      "Accuracy: 99.3197%\n",
      "Accuracy: 100.0000%\n",
      "Accuracy: 100.0000%\n",
      "Accuracy: 100.0000%\n",
      "Accuracy: 100.0000%\n",
      "Accuracy: 100.0000%\n",
      "Accuracy: 100.0000%\n",
      "Accuracy: 100.0000%\n",
      "Accuracy: 100.0000%\n",
      "Final accuracy from 10-fold cross-validation: 99.9320%\n"
     ]
    }
   ],
   "source": [
    "from sklearn.svm import SVC\n",
    "model = SVC(kernel='linear', C=0.025)\n",
    "main(model)"
   ]
  },
  {
   "cell_type": "markdown",
   "metadata": {},
   "source": [
    "Much better! Nearly perfect accuracy."
   ]
  },
  {
   "cell_type": "markdown",
   "metadata": {},
   "source": [
    "## Question 2: Is job satisfaction related to hourly rate?\n"
   ]
  },
  {
   "cell_type": "code",
   "execution_count": 24,
   "metadata": {
    "collapsed": false
   },
   "outputs": [
    {
     "data": {
      "image/png": "[encoded data removed]",
      "text/plain": [
       "<matplotlib.figure.Figure at 0x104669310>"
      ]
     },
     "metadata": {},
     "output_type": "display_data"
    }
   ],
   "source": [
    "%matplotlib inline\n",
    "\n",
    "import numpy as np\n",
    "import matplotlib.pyplot as plt\n",
    "\n",
    "x, y = [], []\n",
    "\n",
    "# Load our dataset.\n",
    "with open('hr_dataset.csv') as f:\n",
    "    # We'll first extract the field names from our CSV. The field names \n",
    "    # are listed on the first line of the file.\n",
    "    first_line = f.readline()\n",
    "    fieldnames = first_line.split(',')\n",
    "    \n",
    "    # For each line in our file, \n",
    "    for line in csv.DictReader(f, fieldnames=fieldnames):\n",
    "        x.append(line['HourlyRate'])\n",
    "        y.append(line['JobSatisfaction'])\n",
    "        \n",
    "plt.scatter(x, y,  alpha=0.5)\n",
    "plt.show()"
   ]
  },
  {
   "cell_type": "code",
   "execution_count": null,
   "metadata": {
    "collapsed": true
   },
   "outputs": [],
   "source": []
  }
 ],
 "metadata": {
  "kernelspec": {
   "display_name": "Python 2",
   "language": "python",
   "name": "python2"
  },
  "language_info": {
   "codemirror_mode": {
    "name": "ipython",
    "version": 2
   },
   "file_extension": ".py",
   "mimetype": "text/x-python",
   "name": "python",
   "nbconvert_exporter": "python",
   "pygments_lexer": "ipython2",
   "version": "2.7.9"
  }
 },
 "nbformat": 4,
 "nbformat_minor": 2
}
